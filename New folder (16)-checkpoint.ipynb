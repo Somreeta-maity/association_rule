{
 "cells": [
  {
   "cell_type": "code",
   "execution_count": 1,
   "id": "f161cfe3",
   "metadata": {},
   "outputs": [],
   "source": [
    "import pandas as pd \n",
    "import numpy as np\n",
    "import matplotlib.pyplot as plt\n",
    "import seaborn as sns\n",
    "from mlxtend.preprocessing import TransactionEncoder\n",
    "from mlxtend.frequent_patterns import apriori"
   ]
  },
  {
   "cell_type": "code",
   "execution_count": 2,
   "id": "e1f719c5",
   "metadata": {},
   "outputs": [],
   "source": [
    "from mlxtend.frequent_patterns import fpgrowth \n",
    "from mlxtend.frequent_patterns import association_rules\n"
   ]
  },
  {
   "cell_type": "code",
   "execution_count": 5,
   "id": "db67cdb7",
   "metadata": {},
   "outputs": [
    {
     "data": {
      "text/html": [
       "<div>\n",
       "<style scoped>\n",
       "    .dataframe tbody tr th:only-of-type {\n",
       "        vertical-align: middle;\n",
       "    }\n",
       "\n",
       "    .dataframe tbody tr th {\n",
       "        vertical-align: top;\n",
       "    }\n",
       "\n",
       "    .dataframe thead th {\n",
       "        text-align: right;\n",
       "    }\n",
       "</style>\n",
       "<table border=\"1\" class=\"dataframe\">\n",
       "  <thead>\n",
       "    <tr style=\"text-align: right;\">\n",
       "      <th></th>\n",
       "      <th>ChildBks</th>\n",
       "      <th>YouthBks</th>\n",
       "      <th>CookBks</th>\n",
       "      <th>DoItYBks</th>\n",
       "      <th>RefBks</th>\n",
       "      <th>ArtBks</th>\n",
       "      <th>GeogBks</th>\n",
       "      <th>ItalCook</th>\n",
       "      <th>ItalAtlas</th>\n",
       "      <th>ItalArt</th>\n",
       "      <th>Florence</th>\n",
       "    </tr>\n",
       "  </thead>\n",
       "  <tbody>\n",
       "    <tr>\n",
       "      <th>0</th>\n",
       "      <td>0</td>\n",
       "      <td>1</td>\n",
       "      <td>0</td>\n",
       "      <td>1</td>\n",
       "      <td>0</td>\n",
       "      <td>0</td>\n",
       "      <td>1</td>\n",
       "      <td>0</td>\n",
       "      <td>0</td>\n",
       "      <td>0</td>\n",
       "      <td>0</td>\n",
       "    </tr>\n",
       "    <tr>\n",
       "      <th>1</th>\n",
       "      <td>1</td>\n",
       "      <td>0</td>\n",
       "      <td>0</td>\n",
       "      <td>0</td>\n",
       "      <td>0</td>\n",
       "      <td>0</td>\n",
       "      <td>0</td>\n",
       "      <td>0</td>\n",
       "      <td>0</td>\n",
       "      <td>0</td>\n",
       "      <td>0</td>\n",
       "    </tr>\n",
       "    <tr>\n",
       "      <th>2</th>\n",
       "      <td>0</td>\n",
       "      <td>0</td>\n",
       "      <td>0</td>\n",
       "      <td>0</td>\n",
       "      <td>0</td>\n",
       "      <td>0</td>\n",
       "      <td>0</td>\n",
       "      <td>0</td>\n",
       "      <td>0</td>\n",
       "      <td>0</td>\n",
       "      <td>0</td>\n",
       "    </tr>\n",
       "    <tr>\n",
       "      <th>3</th>\n",
       "      <td>1</td>\n",
       "      <td>1</td>\n",
       "      <td>1</td>\n",
       "      <td>0</td>\n",
       "      <td>1</td>\n",
       "      <td>0</td>\n",
       "      <td>1</td>\n",
       "      <td>0</td>\n",
       "      <td>0</td>\n",
       "      <td>0</td>\n",
       "      <td>0</td>\n",
       "    </tr>\n",
       "    <tr>\n",
       "      <th>4</th>\n",
       "      <td>0</td>\n",
       "      <td>0</td>\n",
       "      <td>1</td>\n",
       "      <td>0</td>\n",
       "      <td>0</td>\n",
       "      <td>0</td>\n",
       "      <td>1</td>\n",
       "      <td>0</td>\n",
       "      <td>0</td>\n",
       "      <td>0</td>\n",
       "      <td>0</td>\n",
       "    </tr>\n",
       "    <tr>\n",
       "      <th>...</th>\n",
       "      <td>...</td>\n",
       "      <td>...</td>\n",
       "      <td>...</td>\n",
       "      <td>...</td>\n",
       "      <td>...</td>\n",
       "      <td>...</td>\n",
       "      <td>...</td>\n",
       "      <td>...</td>\n",
       "      <td>...</td>\n",
       "      <td>...</td>\n",
       "      <td>...</td>\n",
       "    </tr>\n",
       "    <tr>\n",
       "      <th>1995</th>\n",
       "      <td>0</td>\n",
       "      <td>0</td>\n",
       "      <td>1</td>\n",
       "      <td>0</td>\n",
       "      <td>0</td>\n",
       "      <td>1</td>\n",
       "      <td>1</td>\n",
       "      <td>1</td>\n",
       "      <td>0</td>\n",
       "      <td>1</td>\n",
       "      <td>1</td>\n",
       "    </tr>\n",
       "    <tr>\n",
       "      <th>1996</th>\n",
       "      <td>0</td>\n",
       "      <td>0</td>\n",
       "      <td>0</td>\n",
       "      <td>0</td>\n",
       "      <td>0</td>\n",
       "      <td>0</td>\n",
       "      <td>0</td>\n",
       "      <td>0</td>\n",
       "      <td>0</td>\n",
       "      <td>0</td>\n",
       "      <td>0</td>\n",
       "    </tr>\n",
       "    <tr>\n",
       "      <th>1997</th>\n",
       "      <td>0</td>\n",
       "      <td>0</td>\n",
       "      <td>0</td>\n",
       "      <td>0</td>\n",
       "      <td>0</td>\n",
       "      <td>0</td>\n",
       "      <td>0</td>\n",
       "      <td>0</td>\n",
       "      <td>0</td>\n",
       "      <td>0</td>\n",
       "      <td>0</td>\n",
       "    </tr>\n",
       "    <tr>\n",
       "      <th>1998</th>\n",
       "      <td>0</td>\n",
       "      <td>0</td>\n",
       "      <td>1</td>\n",
       "      <td>0</td>\n",
       "      <td>0</td>\n",
       "      <td>0</td>\n",
       "      <td>0</td>\n",
       "      <td>0</td>\n",
       "      <td>0</td>\n",
       "      <td>0</td>\n",
       "      <td>0</td>\n",
       "    </tr>\n",
       "    <tr>\n",
       "      <th>1999</th>\n",
       "      <td>0</td>\n",
       "      <td>0</td>\n",
       "      <td>0</td>\n",
       "      <td>0</td>\n",
       "      <td>0</td>\n",
       "      <td>0</td>\n",
       "      <td>0</td>\n",
       "      <td>0</td>\n",
       "      <td>0</td>\n",
       "      <td>0</td>\n",
       "      <td>0</td>\n",
       "    </tr>\n",
       "  </tbody>\n",
       "</table>\n",
       "<p>2000 rows × 11 columns</p>\n",
       "</div>"
      ],
      "text/plain": [
       "      ChildBks  YouthBks  CookBks  DoItYBks  RefBks  ArtBks  GeogBks  \\\n",
       "0            0         1        0         1       0       0        1   \n",
       "1            1         0        0         0       0       0        0   \n",
       "2            0         0        0         0       0       0        0   \n",
       "3            1         1        1         0       1       0        1   \n",
       "4            0         0        1         0       0       0        1   \n",
       "...        ...       ...      ...       ...     ...     ...      ...   \n",
       "1995         0         0        1         0       0       1        1   \n",
       "1996         0         0        0         0       0       0        0   \n",
       "1997         0         0        0         0       0       0        0   \n",
       "1998         0         0        1         0       0       0        0   \n",
       "1999         0         0        0         0       0       0        0   \n",
       "\n",
       "      ItalCook  ItalAtlas  ItalArt  Florence  \n",
       "0            0          0        0         0  \n",
       "1            0          0        0         0  \n",
       "2            0          0        0         0  \n",
       "3            0          0        0         0  \n",
       "4            0          0        0         0  \n",
       "...        ...        ...      ...       ...  \n",
       "1995         1          0        1         1  \n",
       "1996         0          0        0         0  \n",
       "1997         0          0        0         0  \n",
       "1998         0          0        0         0  \n",
       "1999         0          0        0         0  \n",
       "\n",
       "[2000 rows x 11 columns]"
      ]
     },
     "execution_count": 5,
     "metadata": {},
     "output_type": "execute_result"
    }
   ],
   "source": [
    "BookData = pd.read_csv('C:/Users/maity/OneDrive/Desktop/New folder (16)/book.csv')\n",
    "BookData"
   ]
  },
  {
   "cell_type": "code",
   "execution_count": 6,
   "id": "9db893e1",
   "metadata": {},
   "outputs": [
    {
     "data": {
      "text/plain": [
       "(2000, 11)"
      ]
     },
     "execution_count": 6,
     "metadata": {},
     "output_type": "execute_result"
    }
   ],
   "source": [
    "BookData.shape"
   ]
  },
  {
   "cell_type": "code",
   "execution_count": 11,
   "id": "aa8b092b",
   "metadata": {},
   "outputs": [
    {
     "name": "stderr",
     "output_type": "stream",
     "text": [
      "C:\\ProgramData\\Anaconda3\\lib\\site-packages\\mlxtend\\frequent_patterns\\fpcommon.py:111: DeprecationWarning: DataFrames with non-bool types result in worse computationalperformance and their support might be discontinued in the future.Please use a DataFrame with bool type\n",
      "  warnings.warn(\n"
     ]
    }
   ],
   "source": [
    "frequent_itemsets_ap = apriori(BookData, min_support = 0.1)\n"
   ]
  },
  {
   "cell_type": "code",
   "execution_count": 12,
   "id": "06147974",
   "metadata": {},
   "outputs": [
    {
     "name": "stdout",
     "output_type": "stream",
     "text": [
      "39\n"
     ]
    }
   ],
   "source": [
    "print(len(frequent_itemsets_ap))"
   ]
  },
  {
   "cell_type": "code",
   "execution_count": 15,
   "id": "ddaf078c",
   "metadata": {},
   "outputs": [
    {
     "name": "stdout",
     "output_type": "stream",
     "text": [
      "\r",
      "Processing 72 combinations | Sampling itemset size 2\r",
      "Processing 153 combinations | Sampling itemset size 3\r",
      "Processing 44 combinations | Sampling itemset size 4\n"
     ]
    },
    {
     "name": "stderr",
     "output_type": "stream",
     "text": [
      "C:\\ProgramData\\Anaconda3\\lib\\site-packages\\mlxtend\\frequent_patterns\\fpcommon.py:111: DeprecationWarning: DataFrames with non-bool types result in worse computationalperformance and their support might be discontinued in the future.Please use a DataFrame with bool type\n",
      "  warnings.warn(\n"
     ]
    },
    {
     "data": {
      "text/html": [
       "<div>\n",
       "<style scoped>\n",
       "    .dataframe tbody tr th:only-of-type {\n",
       "        vertical-align: middle;\n",
       "    }\n",
       "\n",
       "    .dataframe tbody tr th {\n",
       "        vertical-align: top;\n",
       "    }\n",
       "\n",
       "    .dataframe thead th {\n",
       "        text-align: right;\n",
       "    }\n",
       "</style>\n",
       "<table border=\"1\" class=\"dataframe\">\n",
       "  <thead>\n",
       "    <tr style=\"text-align: right;\">\n",
       "      <th></th>\n",
       "      <th>support</th>\n",
       "      <th>itemsets</th>\n",
       "    </tr>\n",
       "  </thead>\n",
       "  <tbody>\n",
       "    <tr>\n",
       "      <th>0</th>\n",
       "      <td>0.4230</td>\n",
       "      <td>(ChildBks)</td>\n",
       "    </tr>\n",
       "    <tr>\n",
       "      <th>1</th>\n",
       "      <td>0.2475</td>\n",
       "      <td>(YouthBks)</td>\n",
       "    </tr>\n",
       "    <tr>\n",
       "      <th>2</th>\n",
       "      <td>0.4310</td>\n",
       "      <td>(CookBks)</td>\n",
       "    </tr>\n",
       "    <tr>\n",
       "      <th>3</th>\n",
       "      <td>0.2820</td>\n",
       "      <td>(DoItYBks)</td>\n",
       "    </tr>\n",
       "    <tr>\n",
       "      <th>4</th>\n",
       "      <td>0.2145</td>\n",
       "      <td>(RefBks)</td>\n",
       "    </tr>\n",
       "  </tbody>\n",
       "</table>\n",
       "</div>"
      ],
      "text/plain": [
       "   support    itemsets\n",
       "0   0.4230  (ChildBks)\n",
       "1   0.2475  (YouthBks)\n",
       "2   0.4310   (CookBks)\n",
       "3   0.2820  (DoItYBks)\n",
       "4   0.2145    (RefBks)"
      ]
     },
     "execution_count": 15,
     "metadata": {},
     "output_type": "execute_result"
    }
   ],
   "source": [
    "frequent_itemsets_ap= apriori(BookData, min_support = 0.1,use_colnames = True, verbose = 1)\n",
    "frequent_itemsets_ap.head()"
   ]
  },
  {
   "cell_type": "code",
   "execution_count": 16,
   "id": "87e52e23",
   "metadata": {},
   "outputs": [
    {
     "data": {
      "text/html": [
       "<div>\n",
       "<style scoped>\n",
       "    .dataframe tbody tr th:only-of-type {\n",
       "        vertical-align: middle;\n",
       "    }\n",
       "\n",
       "    .dataframe tbody tr th {\n",
       "        vertical-align: top;\n",
       "    }\n",
       "\n",
       "    .dataframe thead th {\n",
       "        text-align: right;\n",
       "    }\n",
       "</style>\n",
       "<table border=\"1\" class=\"dataframe\">\n",
       "  <thead>\n",
       "    <tr style=\"text-align: right;\">\n",
       "      <th></th>\n",
       "      <th>support</th>\n",
       "      <th>itemsets</th>\n",
       "    </tr>\n",
       "  </thead>\n",
       "  <tbody>\n",
       "    <tr>\n",
       "      <th>2</th>\n",
       "      <td>0.431</td>\n",
       "      <td>(CookBks)</td>\n",
       "    </tr>\n",
       "    <tr>\n",
       "      <th>0</th>\n",
       "      <td>0.423</td>\n",
       "      <td>(ChildBks)</td>\n",
       "    </tr>\n",
       "    <tr>\n",
       "      <th>3</th>\n",
       "      <td>0.282</td>\n",
       "      <td>(DoItYBks)</td>\n",
       "    </tr>\n",
       "    <tr>\n",
       "      <th>6</th>\n",
       "      <td>0.276</td>\n",
       "      <td>(GeogBks)</td>\n",
       "    </tr>\n",
       "    <tr>\n",
       "      <th>10</th>\n",
       "      <td>0.256</td>\n",
       "      <td>(CookBks, ChildBks)</td>\n",
       "    </tr>\n",
       "  </tbody>\n",
       "</table>\n",
       "</div>"
      ],
      "text/plain": [
       "    support             itemsets\n",
       "2     0.431            (CookBks)\n",
       "0     0.423           (ChildBks)\n",
       "3     0.282           (DoItYBks)\n",
       "6     0.276            (GeogBks)\n",
       "10    0.256  (CookBks, ChildBks)"
      ]
     },
     "execution_count": 16,
     "metadata": {},
     "output_type": "execute_result"
    }
   ],
   "source": [
    "frequent_itemsets_ap.sort_values(\"support\", ascending = False ).head()"
   ]
  },
  {
   "cell_type": "code",
   "execution_count": 17,
   "id": "c0d36982",
   "metadata": {},
   "outputs": [
    {
     "name": "stdout",
     "output_type": "stream",
     "text": [
      "  antecedents consequents  antecedent support  consequent support  support  \\\n",
      "0  (YouthBks)  (ChildBks)              0.2475               0.423    0.165   \n",
      "1   (CookBks)  (ChildBks)              0.4310               0.423    0.256   \n",
      "2  (ChildBks)   (CookBks)              0.4230               0.431    0.256   \n",
      "3  (ChildBks)  (DoItYBks)              0.4230               0.282    0.184   \n",
      "4  (DoItYBks)  (ChildBks)              0.2820               0.423    0.184   \n",
      "\n",
      "   confidence      lift  leverage  conviction  \n",
      "0    0.666667  1.576044  0.060308    1.731000  \n",
      "1    0.593968  1.404179  0.073687    1.421069  \n",
      "2    0.605201  1.404179  0.073687    1.441240  \n",
      "3    0.434988  1.542511  0.064714    1.270770  \n",
      "4    0.652482  1.542511  0.064714    1.660347  \n"
     ]
    }
   ],
   "source": [
    "rules_ap = association_rules(frequent_itemsets_ap, metric= \"confidence\", min_threshold = 0.4)\n",
    "print(rules_ap.head())"
   ]
  },
  {
   "cell_type": "code",
   "execution_count": 19,
   "id": "e8fec8c0",
   "metadata": {},
   "outputs": [
    {
     "data": {
      "text/html": [
       "<div>\n",
       "<style scoped>\n",
       "    .dataframe tbody tr th:only-of-type {\n",
       "        vertical-align: middle;\n",
       "    }\n",
       "\n",
       "    .dataframe tbody tr th {\n",
       "        vertical-align: top;\n",
       "    }\n",
       "\n",
       "    .dataframe thead th {\n",
       "        text-align: right;\n",
       "    }\n",
       "</style>\n",
       "<table border=\"1\" class=\"dataframe\">\n",
       "  <thead>\n",
       "    <tr style=\"text-align: right;\">\n",
       "      <th></th>\n",
       "      <th>antecedents</th>\n",
       "      <th>consequents</th>\n",
       "      <th>antecedent support</th>\n",
       "      <th>consequent support</th>\n",
       "      <th>support</th>\n",
       "      <th>confidence</th>\n",
       "      <th>lift</th>\n",
       "      <th>leverage</th>\n",
       "      <th>conviction</th>\n",
       "      <th>lhs items</th>\n",
       "    </tr>\n",
       "  </thead>\n",
       "  <tbody>\n",
       "    <tr>\n",
       "      <th>55</th>\n",
       "      <td>(ChildBks, ArtBks)</td>\n",
       "      <td>(GeogBks)</td>\n",
       "      <td>0.1625</td>\n",
       "      <td>0.2760</td>\n",
       "      <td>0.1020</td>\n",
       "      <td>0.627692</td>\n",
       "      <td>2.274247</td>\n",
       "      <td>0.057150</td>\n",
       "      <td>1.944628</td>\n",
       "      <td>2</td>\n",
       "    </tr>\n",
       "    <tr>\n",
       "      <th>59</th>\n",
       "      <td>(CookBks, DoItYBks)</td>\n",
       "      <td>(ArtBks)</td>\n",
       "      <td>0.1875</td>\n",
       "      <td>0.2410</td>\n",
       "      <td>0.1015</td>\n",
       "      <td>0.541333</td>\n",
       "      <td>2.246196</td>\n",
       "      <td>0.056313</td>\n",
       "      <td>1.654797</td>\n",
       "      <td>2</td>\n",
       "    </tr>\n",
       "    <tr>\n",
       "      <th>66</th>\n",
       "      <td>(CookBks, ArtBks)</td>\n",
       "      <td>(GeogBks)</td>\n",
       "      <td>0.1670</td>\n",
       "      <td>0.2760</td>\n",
       "      <td>0.1035</td>\n",
       "      <td>0.619760</td>\n",
       "      <td>2.245509</td>\n",
       "      <td>0.057408</td>\n",
       "      <td>1.904063</td>\n",
       "      <td>2</td>\n",
       "    </tr>\n",
       "    <tr>\n",
       "      <th>67</th>\n",
       "      <td>(CookBks, GeogBks)</td>\n",
       "      <td>(ArtBks)</td>\n",
       "      <td>0.1925</td>\n",
       "      <td>0.2410</td>\n",
       "      <td>0.1035</td>\n",
       "      <td>0.537662</td>\n",
       "      <td>2.230964</td>\n",
       "      <td>0.057107</td>\n",
       "      <td>1.641657</td>\n",
       "      <td>2</td>\n",
       "    </tr>\n",
       "    <tr>\n",
       "      <th>42</th>\n",
       "      <td>(CookBks, ChildBks)</td>\n",
       "      <td>(RefBks)</td>\n",
       "      <td>0.2560</td>\n",
       "      <td>0.2145</td>\n",
       "      <td>0.1225</td>\n",
       "      <td>0.478516</td>\n",
       "      <td>2.230842</td>\n",
       "      <td>0.067588</td>\n",
       "      <td>1.506277</td>\n",
       "      <td>2</td>\n",
       "    </tr>\n",
       "  </tbody>\n",
       "</table>\n",
       "</div>"
      ],
      "text/plain": [
       "            antecedents consequents  antecedent support  consequent support  \\\n",
       "55   (ChildBks, ArtBks)   (GeogBks)              0.1625              0.2760   \n",
       "59  (CookBks, DoItYBks)    (ArtBks)              0.1875              0.2410   \n",
       "66    (CookBks, ArtBks)   (GeogBks)              0.1670              0.2760   \n",
       "67   (CookBks, GeogBks)    (ArtBks)              0.1925              0.2410   \n",
       "42  (CookBks, ChildBks)    (RefBks)              0.2560              0.2145   \n",
       "\n",
       "    support  confidence      lift  leverage  conviction  lhs items  \n",
       "55   0.1020    0.627692  2.274247  0.057150    1.944628          2  \n",
       "59   0.1015    0.541333  2.246196  0.056313    1.654797          2  \n",
       "66   0.1035    0.619760  2.245509  0.057408    1.904063          2  \n",
       "67   0.1035    0.537662  2.230964  0.057107    1.641657          2  \n",
       "42   0.1225    0.478516  2.230842  0.067588    1.506277          2  "
      ]
     },
     "execution_count": 19,
     "metadata": {},
     "output_type": "execute_result"
    }
   ],
   "source": [
    "rules_ap['lhs items']= rules_ap['antecedents'].apply(lambda x : len(x))\n",
    "rules_ap[rules_ap['lhs items']>1].sort_values('lift',ascending = False).head()"
   ]
  },
  {
   "cell_type": "code",
   "execution_count": 22,
   "id": "6865a492",
   "metadata": {},
   "outputs": [],
   "source": [
    "rules_ap['antecedents_']= rules_ap['antecedents'].apply(lambda a: ','.join(list(a)))\n",
    "rules_ap['consequents_']= rules_ap['consequents'].apply(lambda a: ','.join(list(a)))\n",
    "#Transform  the DataFrame of rules into a matrix using the confidence metric\n",
    "pivot = rules_ap[rules_ap['lhs items']>1].pivot(index = 'antecedents_',\n",
    "                        columns = 'consequents_',values = 'confidence')\n"
   ]
  },
  {
   "cell_type": "code",
   "execution_count": 23,
   "id": "df16ef2b",
   "metadata": {},
   "outputs": [
    {
     "data": {
      "text/plain": [
       "(array([0.5, 1.5, 2.5, 3.5, 4.5, 5.5, 6.5]),\n",
       " [Text(0.5, 0, 'ArtBks'),\n",
       "  Text(1.5, 0, 'ChildBks'),\n",
       "  Text(2.5, 0, 'CookBks'),\n",
       "  Text(3.5, 0, 'DoItYBks'),\n",
       "  Text(4.5, 0, 'GeogBks'),\n",
       "  Text(5.5, 0, 'RefBks'),\n",
       "  Text(6.5, 0, 'YouthBks')])"
      ]
     },
     "execution_count": 23,
     "metadata": {},
     "output_type": "execute_result"
    },
    {
     "data": {
      "image/png": "[encoded data removed]",
      "text/plain": [
       "<Figure size 432x288 with 2 Axes>"
      ]
     },
     "metadata": {
      "needs_background": "light"
     },
     "output_type": "display_data"
    }
   ],
   "source": [
    "#Generate a heatmap \n",
    "sns.heatmap(pivot , annot = True )\n",
    "plt.title('Heatmap for confidence matrix')\n",
    "plt.yticks(rotation= 0 )\n",
    "plt.xticks(rotation = 90)"
   ]
  },
  {
   "cell_type": "code",
   "execution_count": 32,
   "id": "a24c0895",
   "metadata": {},
   "outputs": [
    {
     "data": {
      "text/html": [
       "<div>\n",
       "<style scoped>\n",
       "    .dataframe tbody tr th:only-of-type {\n",
       "        vertical-align: middle;\n",
       "    }\n",
       "\n",
       "    .dataframe tbody tr th {\n",
       "        vertical-align: top;\n",
       "    }\n",
       "\n",
       "    .dataframe thead th {\n",
       "        text-align: right;\n",
       "    }\n",
       "</style>\n",
       "<table border=\"1\" class=\"dataframe\">\n",
       "  <thead>\n",
       "    <tr style=\"text-align: right;\">\n",
       "      <th></th>\n",
       "      <th>antecedents</th>\n",
       "      <th>consequents</th>\n",
       "      <th>antecedent support</th>\n",
       "      <th>consequent support</th>\n",
       "      <th>support</th>\n",
       "      <th>confidence</th>\n",
       "      <th>lift</th>\n",
       "      <th>leverage</th>\n",
       "      <th>conviction</th>\n",
       "      <th>antecedents_</th>\n",
       "      <th>consequents_</th>\n",
       "      <th>lhs items</th>\n",
       "    </tr>\n",
       "  </thead>\n",
       "  <tbody>\n",
       "    <tr>\n",
       "      <th>76</th>\n",
       "      <td>(ChildBks, ArtBks)</td>\n",
       "      <td>(GeogBks)</td>\n",
       "      <td>0.1625</td>\n",
       "      <td>0.2760</td>\n",
       "      <td>0.1020</td>\n",
       "      <td>0.627692</td>\n",
       "      <td>2.274247</td>\n",
       "      <td>0.057150</td>\n",
       "      <td>1.944628</td>\n",
       "      <td>ChildBks,ArtBks</td>\n",
       "      <td>GeogBks</td>\n",
       "      <td>2</td>\n",
       "    </tr>\n",
       "    <tr>\n",
       "      <th>82</th>\n",
       "      <td>(CookBks, DoItYBks)</td>\n",
       "      <td>(ArtBks)</td>\n",
       "      <td>0.1875</td>\n",
       "      <td>0.2410</td>\n",
       "      <td>0.1015</td>\n",
       "      <td>0.541333</td>\n",
       "      <td>2.246196</td>\n",
       "      <td>0.056313</td>\n",
       "      <td>1.654797</td>\n",
       "      <td>CookBks,DoItYBks</td>\n",
       "      <td>ArtBks</td>\n",
       "      <td>2</td>\n",
       "    </tr>\n",
       "    <tr>\n",
       "      <th>94</th>\n",
       "      <td>(CookBks, ArtBks)</td>\n",
       "      <td>(GeogBks)</td>\n",
       "      <td>0.1670</td>\n",
       "      <td>0.2760</td>\n",
       "      <td>0.1035</td>\n",
       "      <td>0.619760</td>\n",
       "      <td>2.245509</td>\n",
       "      <td>0.057408</td>\n",
       "      <td>1.904063</td>\n",
       "      <td>CookBks,ArtBks</td>\n",
       "      <td>GeogBks</td>\n",
       "      <td>2</td>\n",
       "    </tr>\n",
       "    <tr>\n",
       "      <th>95</th>\n",
       "      <td>(CookBks, GeogBks)</td>\n",
       "      <td>(ArtBks)</td>\n",
       "      <td>0.1925</td>\n",
       "      <td>0.2410</td>\n",
       "      <td>0.1035</td>\n",
       "      <td>0.537662</td>\n",
       "      <td>2.230964</td>\n",
       "      <td>0.057107</td>\n",
       "      <td>1.641657</td>\n",
       "      <td>CookBks,GeogBks</td>\n",
       "      <td>ArtBks</td>\n",
       "      <td>2</td>\n",
       "    </tr>\n",
       "    <tr>\n",
       "      <th>54</th>\n",
       "      <td>(CookBks, ChildBks)</td>\n",
       "      <td>(RefBks)</td>\n",
       "      <td>0.2560</td>\n",
       "      <td>0.2145</td>\n",
       "      <td>0.1225</td>\n",
       "      <td>0.478516</td>\n",
       "      <td>2.230842</td>\n",
       "      <td>0.067588</td>\n",
       "      <td>1.506277</td>\n",
       "      <td>CookBks,ChildBks</td>\n",
       "      <td>RefBks</td>\n",
       "      <td>2</td>\n",
       "    </tr>\n",
       "  </tbody>\n",
       "</table>\n",
       "</div>"
      ],
      "text/plain": [
       "            antecedents consequents  antecedent support  consequent support  \\\n",
       "76   (ChildBks, ArtBks)   (GeogBks)              0.1625              0.2760   \n",
       "82  (CookBks, DoItYBks)    (ArtBks)              0.1875              0.2410   \n",
       "94    (CookBks, ArtBks)   (GeogBks)              0.1670              0.2760   \n",
       "95   (CookBks, GeogBks)    (ArtBks)              0.1925              0.2410   \n",
       "54  (CookBks, ChildBks)    (RefBks)              0.2560              0.2145   \n",
       "\n",
       "    support  confidence      lift  leverage  conviction      antecedents_  \\\n",
       "76   0.1020    0.627692  2.274247  0.057150    1.944628   ChildBks,ArtBks   \n",
       "82   0.1015    0.541333  2.246196  0.056313    1.654797  CookBks,DoItYBks   \n",
       "94   0.1035    0.619760  2.245509  0.057408    1.904063    CookBks,ArtBks   \n",
       "95   0.1035    0.537662  2.230964  0.057107    1.641657   CookBks,GeogBks   \n",
       "54   0.1225    0.478516  2.230842  0.067588    1.506277  CookBks,ChildBks   \n",
       "\n",
       "   consequents_  lhs items  \n",
       "76      GeogBks          2  \n",
       "82       ArtBks          2  \n",
       "94      GeogBks          2  \n",
       "95       ArtBks          2  \n",
       "54       RefBks          2  "
      ]
     },
     "execution_count": 32,
     "metadata": {},
     "output_type": "execute_result"
    }
   ],
   "source": [
    "rules_ap_li['lhs items'] = rules_ap_li['antecedents'].apply(lambda x:len(x))\n",
    "rules_ap_li[rules_ap_li['lhs items']>1].sort_values('lift', ascending = False).head()"
   ]
  },
  {
   "cell_type": "code",
   "execution_count": 33,
   "id": "c2cc5b13",
   "metadata": {},
   "outputs": [
    {
     "data": {
      "text/plain": [
       "(100, 12)"
      ]
     },
     "execution_count": 33,
     "metadata": {},
     "output_type": "execute_result"
    }
   ],
   "source": [
    "rules_ap_li.shape"
   ]
  },
  {
   "cell_type": "code",
   "execution_count": 28,
   "id": "46a8f6b1",
   "metadata": {},
   "outputs": [
    {
     "data": {
      "text/plain": [
       "(100, 9)"
      ]
     },
     "execution_count": 28,
     "metadata": {},
     "output_type": "execute_result"
    }
   ],
   "source": [
    "rules_ap_li.shape"
   ]
  },
  {
   "cell_type": "code",
   "execution_count": 34,
   "id": "d9a8ebf5",
   "metadata": {},
   "outputs": [
    {
     "data": {
      "text/plain": [
       "(array([0.5, 1.5, 2.5, 3.5, 4.5, 5.5, 6.5]),\n",
       " [Text(0.5, 0, 'ArtBks'),\n",
       "  Text(1.5, 0, 'ChildBks'),\n",
       "  Text(2.5, 0, 'CookBks'),\n",
       "  Text(3.5, 0, 'DoItYBks'),\n",
       "  Text(4.5, 0, 'GeogBks'),\n",
       "  Text(5.5, 0, 'RefBks'),\n",
       "  Text(6.5, 0, 'YouthBks')])"
      ]
     },
     "execution_count": 34,
     "metadata": {},
     "output_type": "execute_result"
    },
    {
     "data": {
      "image/png": "[encoded data removed]",
      "text/plain": [
       "<Figure size 432x288 with 2 Axes>"
      ]
     },
     "metadata": {
      "needs_background": "light"
     },
     "output_type": "display_data"
    }
   ],
   "source": [
    "\n",
    " # Replace frozen sets with strings\n",
    "rules_ap_li['antecedents_'] = rules_ap_li['antecedents'].apply(lambda a: ','.join(list(a)))\n",
    "rules_ap_li['consequents_'] = rules_ap_li['consequents'].apply(lambda a: ','.join(list(a)))\n",
    "# Transform the DataFrame of rules into a matrix using the lift metric\n",
    "pivot = rules_ap_li[rules_ap_li['lhs items']>1].pivot(index = 'antecedents_',\n",
    "                    columns = 'consequents_', values= 'lift')\n",
    "#Generate a heatmap with annotations on and the colorbar off\n",
    "sns.heatmap(pivot, annot = True)\n",
    "plt.title('Heat Map - For Lift Metric')\n",
    "plt.yticks(rotation = 0)\n",
    "plt.xticks(rotation = 90)\n",
    "\n"
   ]
  },
  {
   "cell_type": "code",
   "execution_count": null,
   "id": "c6003799",
   "metadata": {},
   "outputs": [],
   "source": []
  }
 ],
 "metadata": {
  "kernelspec": {
   "display_name": "Python 3 (ipykernel)",
   "language": "python",
   "name": "python3"
  },
  "language_info": {
   "codemirror_mode": {
    "name": "ipython",
    "version": 3
   },
   "file_extension": ".py",
   "mimetype": "text/x-python",
   "name": "python",
   "nbconvert_exporter": "python",
   "pygments_lexer": "ipython3",
   "version": "3.9.7"
  }
 },
 "nbformat": 4,
 "nbformat_minor": 5
}
